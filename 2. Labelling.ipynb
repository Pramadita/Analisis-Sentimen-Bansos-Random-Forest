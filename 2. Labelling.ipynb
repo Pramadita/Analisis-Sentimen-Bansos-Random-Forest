{
 "cells": [
  {
   "cell_type": "code",
   "execution_count": 1,
   "id": "42f696fa",
   "metadata": {},
   "outputs": [],
   "source": [
    "import tweepy\n",
    "from textblob import TextBlob #NLP bahasa inggris\n",
    "import re\n",
    "import pandas as pd\n",
    "import numpy as np\n",
    "import matplotlib.pyplot as plt\n",
    "import seaborn as sns\n",
    "import string\n",
    "%matplotlib inline"
   ]
  },
  {
   "cell_type": "code",
   "execution_count": 2,
   "id": "110ef884",
   "metadata": {},
   "outputs": [
    {
     "data": {
      "text/plain": [
       "Tweet    string\n",
       "dtype: object"
      ]
     },
     "execution_count": 2,
     "metadata": {},
     "output_type": "execute_result"
    }
   ],
   "source": [
    "data = pd.read_csv('Dataset/Label Otomatis/Train.csv',sep=\",\")#nama file data\n",
    "data = data.astype({'Tweet' : 'string'})\n",
    "data.dtypes"
   ]
  },
  {
   "cell_type": "code",
   "execution_count": 4,
   "id": "fcbff2d2",
   "metadata": {},
   "outputs": [],
   "source": [
    "def load_data():\n",
    "    data = pd.read_csv('Dataset/Label Otomatis/Train.csv',sep=\";\")#nama file data\n",
    "    return data"
   ]
  },
  {
   "cell_type": "code",
   "execution_count": 5,
   "id": "2d9a39d4",
   "metadata": {},
   "outputs": [
    {
     "data": {
      "text/html": [
       "<div>\n",
       "<style scoped>\n",
       "    .dataframe tbody tr th:only-of-type {\n",
       "        vertical-align: middle;\n",
       "    }\n",
       "\n",
       "    .dataframe tbody tr th {\n",
       "        vertical-align: top;\n",
       "    }\n",
       "\n",
       "    .dataframe thead th {\n",
       "        text-align: right;\n",
       "    }\n",
       "</style>\n",
       "<table border=\"1\" class=\"dataframe\">\n",
       "  <thead>\n",
       "    <tr style=\"text-align: right;\">\n",
       "      <th></th>\n",
       "      <th>Tweet</th>\n",
       "    </tr>\n",
       "  </thead>\n",
       "  <tbody>\n",
       "    <tr>\n",
       "      <th>0</th>\n",
       "      <td>harga paket bansos covid 19 kemensos ternyata ...</td>\n",
       "    </tr>\n",
       "    <tr>\n",
       "      <th>1</th>\n",
       "      <td>harga paket bansos covid 19 kemensos ternyata ...</td>\n",
       "    </tr>\n",
       "  </tbody>\n",
       "</table>\n",
       "</div>"
      ],
      "text/plain": [
       "                                               Tweet\n",
       "0  harga paket bansos covid 19 kemensos ternyata ...\n",
       "1  harga paket bansos covid 19 kemensos ternyata ..."
      ]
     },
     "execution_count": 5,
     "metadata": {},
     "output_type": "execute_result"
    }
   ],
   "source": [
    "tweet_df = load_data()\n",
    "tweet_df.head()"
   ]
  },
  {
   "cell_type": "code",
   "execution_count": 6,
   "id": "a773a96d",
   "metadata": {},
   "outputs": [
    {
     "data": {
      "text/html": [
       "<div>\n",
       "<style scoped>\n",
       "    .dataframe tbody tr th:only-of-type {\n",
       "        vertical-align: middle;\n",
       "    }\n",
       "\n",
       "    .dataframe tbody tr th {\n",
       "        vertical-align: top;\n",
       "    }\n",
       "\n",
       "    .dataframe thead th {\n",
       "        text-align: right;\n",
       "    }\n",
       "</style>\n",
       "<table border=\"1\" class=\"dataframe\">\n",
       "  <thead>\n",
       "    <tr style=\"text-align: right;\">\n",
       "      <th></th>\n",
       "      <th>Tweet</th>\n",
       "    </tr>\n",
       "  </thead>\n",
       "  <tbody>\n",
       "    <tr>\n",
       "      <th>0</th>\n",
       "      <td>harga paket bansos covid 19 kemensos ternyata ...</td>\n",
       "    </tr>\n",
       "    <tr>\n",
       "      <th>1</th>\n",
       "      <td>harga paket bansos covid 19 kemensos ternyata ...</td>\n",
       "    </tr>\n",
       "  </tbody>\n",
       "</table>\n",
       "</div>"
      ],
      "text/plain": [
       "                                               Tweet\n",
       "0  harga paket bansos covid 19 kemensos ternyata ...\n",
       "1  harga paket bansos covid 19 kemensos ternyata ..."
      ]
     },
     "execution_count": 6,
     "metadata": {},
     "output_type": "execute_result"
    }
   ],
   "source": [
    "df  = pd.DataFrame(tweet_df[['Tweet']])\n",
    "df"
   ]
  },
  {
   "cell_type": "code",
   "execution_count": 8,
   "id": "f33ceb0e",
   "metadata": {},
   "outputs": [
    {
     "data": {
      "text/html": [
       "<div>\n",
       "<style scoped>\n",
       "    .dataframe tbody tr th:only-of-type {\n",
       "        vertical-align: middle;\n",
       "    }\n",
       "\n",
       "    .dataframe tbody tr th {\n",
       "        vertical-align: top;\n",
       "    }\n",
       "\n",
       "    .dataframe thead th {\n",
       "        text-align: right;\n",
       "    }\n",
       "</style>\n",
       "<table border=\"1\" class=\"dataframe\">\n",
       "  <thead>\n",
       "    <tr style=\"text-align: right;\">\n",
       "      <th></th>\n",
       "      <th>Tweet</th>\n",
       "      <th>Tweets_Translated</th>\n",
       "      <th>Terjemah</th>\n",
       "    </tr>\n",
       "  </thead>\n",
       "  <tbody>\n",
       "    <tr>\n",
       "      <th>0</th>\n",
       "      <td>harga paket bansos covid 19 kemensos ternyata ...</td>\n",
       "      <td>the price of the social assistance package for...</td>\n",
       "      <td>the price of the social assistance package for...</td>\n",
       "    </tr>\n",
       "    <tr>\n",
       "      <th>1</th>\n",
       "      <td>harga paket bansos covid 19 kemensos ternyata ...</td>\n",
       "      <td>the price of the social assistance package for...</td>\n",
       "      <td>the price of the social assistance package for...</td>\n",
       "    </tr>\n",
       "  </tbody>\n",
       "</table>\n",
       "</div>"
      ],
      "text/plain": [
       "                                               Tweet  \\\n",
       "0  harga paket bansos covid 19 kemensos ternyata ...   \n",
       "1  harga paket bansos covid 19 kemensos ternyata ...   \n",
       "\n",
       "                                   Tweets_Translated  \\\n",
       "0  the price of the social assistance package for...   \n",
       "1  the price of the social assistance package for...   \n",
       "\n",
       "                                            Terjemah  \n",
       "0  the price of the social assistance package for...  \n",
       "1  the price of the social assistance package for...  "
      ]
     },
     "execution_count": 8,
     "metadata": {},
     "output_type": "execute_result"
    }
   ],
   "source": [
    "for index, row in df.iterrows():\n",
    "  id_blob = df.iloc[index]['Tweet']\n",
    "  translation = TextBlob(id_blob)\n",
    "  if translation.detect_language() != 'en' :\n",
    "    en_blob = translation.translate(to=u'en')\n",
    "  else :\n",
    "    en_blob = translation\n",
    "  df.at[index,str('Terjemah')] = str(en_blob)\n",
    "# Lets take a look\n",
    "df.head()"
   ]
  },
  {
   "cell_type": "code",
   "execution_count": 9,
   "id": "d7feb5e9",
   "metadata": {},
   "outputs": [
    {
     "data": {
      "text/html": [
       "<div>\n",
       "<style scoped>\n",
       "    .dataframe tbody tr th:only-of-type {\n",
       "        vertical-align: middle;\n",
       "    }\n",
       "\n",
       "    .dataframe tbody tr th {\n",
       "        vertical-align: top;\n",
       "    }\n",
       "\n",
       "    .dataframe thead th {\n",
       "        text-align: right;\n",
       "    }\n",
       "</style>\n",
       "<table border=\"1\" class=\"dataframe\">\n",
       "  <thead>\n",
       "    <tr style=\"text-align: right;\">\n",
       "      <th></th>\n",
       "      <th>Tweet</th>\n",
       "      <th>Tweets_Translated</th>\n",
       "      <th>Terjemah</th>\n",
       "      <th>Subjectivity</th>\n",
       "      <th>Polarity</th>\n",
       "    </tr>\n",
       "  </thead>\n",
       "  <tbody>\n",
       "    <tr>\n",
       "      <th>0</th>\n",
       "      <td>harga paket bansos covid 19 kemensos ternyata ...</td>\n",
       "      <td>the price of the social assistance package for...</td>\n",
       "      <td>the price of the social assistance package for...</td>\n",
       "      <td>0.333333</td>\n",
       "      <td>0.016667</td>\n",
       "    </tr>\n",
       "    <tr>\n",
       "      <th>1</th>\n",
       "      <td>harga paket bansos covid 19 kemensos ternyata ...</td>\n",
       "      <td>the price of the social assistance package for...</td>\n",
       "      <td>the price of the social assistance package for...</td>\n",
       "      <td>0.333333</td>\n",
       "      <td>0.016667</td>\n",
       "    </tr>\n",
       "  </tbody>\n",
       "</table>\n",
       "</div>"
      ],
      "text/plain": [
       "                                               Tweet  \\\n",
       "0  harga paket bansos covid 19 kemensos ternyata ...   \n",
       "1  harga paket bansos covid 19 kemensos ternyata ...   \n",
       "\n",
       "                                   Tweets_Translated  \\\n",
       "0  the price of the social assistance package for...   \n",
       "1  the price of the social assistance package for...   \n",
       "\n",
       "                                            Terjemah  Subjectivity  Polarity  \n",
       "0  the price of the social assistance package for...      0.333333  0.016667  \n",
       "1  the price of the social assistance package for...      0.333333  0.016667  "
      ]
     },
     "execution_count": 9,
     "metadata": {},
     "output_type": "execute_result"
    }
   ],
   "source": [
    "def getSubjectivity(text): \n",
    "    return TextBlob(str(text)).sentiment.subjectivity\n",
    "\n",
    "def getPolarity(text):\n",
    "    return TextBlob(str(text)).sentiment.polarity\n",
    "\n",
    "df['Subjectivity'] = df['Terjemah'].apply(getSubjectivity)\n",
    "df['Polarity'] = df['Terjemah'].apply(getPolarity)\n",
    "\n",
    "df"
   ]
  },
  {
   "cell_type": "code",
   "execution_count": 10,
   "id": "c834de7c",
   "metadata": {},
   "outputs": [
    {
     "data": {
      "text/html": [
       "<div>\n",
       "<style scoped>\n",
       "    .dataframe tbody tr th:only-of-type {\n",
       "        vertical-align: middle;\n",
       "    }\n",
       "\n",
       "    .dataframe tbody tr th {\n",
       "        vertical-align: top;\n",
       "    }\n",
       "\n",
       "    .dataframe thead th {\n",
       "        text-align: right;\n",
       "    }\n",
       "</style>\n",
       "<table border=\"1\" class=\"dataframe\">\n",
       "  <thead>\n",
       "    <tr style=\"text-align: right;\">\n",
       "      <th></th>\n",
       "      <th>Tweet</th>\n",
       "      <th>Tweets_Translated</th>\n",
       "      <th>Terjemah</th>\n",
       "      <th>Subjectivity</th>\n",
       "      <th>Polarity</th>\n",
       "      <th>Sentiment</th>\n",
       "    </tr>\n",
       "  </thead>\n",
       "  <tbody>\n",
       "    <tr>\n",
       "      <th>0</th>\n",
       "      <td>harga paket bansos covid 19 kemensos ternyata ...</td>\n",
       "      <td>the price of the social assistance package for...</td>\n",
       "      <td>the price of the social assistance package for...</td>\n",
       "      <td>0.333333</td>\n",
       "      <td>0.016667</td>\n",
       "      <td>positif</td>\n",
       "    </tr>\n",
       "    <tr>\n",
       "      <th>1</th>\n",
       "      <td>harga paket bansos covid 19 kemensos ternyata ...</td>\n",
       "      <td>the price of the social assistance package for...</td>\n",
       "      <td>the price of the social assistance package for...</td>\n",
       "      <td>0.333333</td>\n",
       "      <td>0.016667</td>\n",
       "      <td>positif</td>\n",
       "    </tr>\n",
       "  </tbody>\n",
       "</table>\n",
       "</div>"
      ],
      "text/plain": [
       "                                               Tweet  \\\n",
       "0  harga paket bansos covid 19 kemensos ternyata ...   \n",
       "1  harga paket bansos covid 19 kemensos ternyata ...   \n",
       "\n",
       "                                   Tweets_Translated  \\\n",
       "0  the price of the social assistance package for...   \n",
       "1  the price of the social assistance package for...   \n",
       "\n",
       "                                            Terjemah  Subjectivity  Polarity  \\\n",
       "0  the price of the social assistance package for...      0.333333  0.016667   \n",
       "1  the price of the social assistance package for...      0.333333  0.016667   \n",
       "\n",
       "  Sentiment  \n",
       "0   positif  \n",
       "1   positif  "
      ]
     },
     "execution_count": 10,
     "metadata": {},
     "output_type": "execute_result"
    }
   ],
   "source": [
    "def getSentiment(score):\n",
    "    if score < 0 :\n",
    "        return 'negatif'\n",
    "    elif score == 0 :\n",
    "        return 'netral'\n",
    "    else :\n",
    "        return 'positif'\n",
    "# Apply the function\n",
    "df['Sentiment'] = df['Polarity'].apply(getSentiment)\n",
    "#lets take a look\n",
    "df"
   ]
  },
  {
   "cell_type": "code",
   "execution_count": 11,
   "id": "587e85fb",
   "metadata": {},
   "outputs": [
    {
     "data": {
      "text/html": [
       "<div>\n",
       "<style scoped>\n",
       "    .dataframe tbody tr th:only-of-type {\n",
       "        vertical-align: middle;\n",
       "    }\n",
       "\n",
       "    .dataframe tbody tr th {\n",
       "        vertical-align: top;\n",
       "    }\n",
       "\n",
       "    .dataframe thead th {\n",
       "        text-align: right;\n",
       "    }\n",
       "</style>\n",
       "<table border=\"1\" class=\"dataframe\">\n",
       "  <thead>\n",
       "    <tr style=\"text-align: right;\">\n",
       "      <th></th>\n",
       "      <th>Tweet</th>\n",
       "      <th>Tweets_Translated</th>\n",
       "      <th>Terjemah</th>\n",
       "      <th>Subjectivity</th>\n",
       "      <th>Polarity</th>\n",
       "      <th>Sentiment</th>\n",
       "      <th>Sentiments</th>\n",
       "    </tr>\n",
       "  </thead>\n",
       "  <tbody>\n",
       "    <tr>\n",
       "      <th>0</th>\n",
       "      <td>harga paket bansos covid 19 kemensos ternyata ...</td>\n",
       "      <td>the price of the social assistance package for...</td>\n",
       "      <td>the price of the social assistance package for...</td>\n",
       "      <td>0.333333</td>\n",
       "      <td>0.016667</td>\n",
       "      <td>positif</td>\n",
       "      <td>2</td>\n",
       "    </tr>\n",
       "    <tr>\n",
       "      <th>1</th>\n",
       "      <td>harga paket bansos covid 19 kemensos ternyata ...</td>\n",
       "      <td>the price of the social assistance package for...</td>\n",
       "      <td>the price of the social assistance package for...</td>\n",
       "      <td>0.333333</td>\n",
       "      <td>0.016667</td>\n",
       "      <td>positif</td>\n",
       "      <td>2</td>\n",
       "    </tr>\n",
       "  </tbody>\n",
       "</table>\n",
       "</div>"
      ],
      "text/plain": [
       "                                               Tweet  \\\n",
       "0  harga paket bansos covid 19 kemensos ternyata ...   \n",
       "1  harga paket bansos covid 19 kemensos ternyata ...   \n",
       "\n",
       "                                   Tweets_Translated  \\\n",
       "0  the price of the social assistance package for...   \n",
       "1  the price of the social assistance package for...   \n",
       "\n",
       "                                            Terjemah  Subjectivity  Polarity  \\\n",
       "0  the price of the social assistance package for...      0.333333  0.016667   \n",
       "1  the price of the social assistance package for...      0.333333  0.016667   \n",
       "\n",
       "  Sentiment Sentiments  \n",
       "0   positif          2  \n",
       "1   positif          2  "
      ]
     },
     "execution_count": 11,
     "metadata": {},
     "output_type": "execute_result"
    }
   ],
   "source": [
    "def getSentiments(kata):\n",
    "    if kata == 'negatif' :\n",
    "        return '1'\n",
    "    elif kata == 'netral' :\n",
    "        return '0'\n",
    "    else :\n",
    "        return '2'\n",
    "# Apply the function\n",
    "df['Sentiments'] = df['Sentiment'].apply(getSentiments)\n",
    "#lets take a look\n",
    "df"
   ]
  },
  {
   "cell_type": "code",
   "execution_count": 12,
   "id": "04593807",
   "metadata": {},
   "outputs": [
    {
     "data": {
      "text/html": [
       "<div>\n",
       "<style scoped>\n",
       "    .dataframe tbody tr th:only-of-type {\n",
       "        vertical-align: middle;\n",
       "    }\n",
       "\n",
       "    .dataframe tbody tr th {\n",
       "        vertical-align: top;\n",
       "    }\n",
       "\n",
       "    .dataframe thead th {\n",
       "        text-align: right;\n",
       "    }\n",
       "</style>\n",
       "<table border=\"1\" class=\"dataframe\">\n",
       "  <thead>\n",
       "    <tr style=\"text-align: right;\">\n",
       "      <th></th>\n",
       "      <th>Tweet</th>\n",
       "      <th>Tweets_Translated</th>\n",
       "      <th>Terjemah</th>\n",
       "      <th>Subjectivity</th>\n",
       "      <th>Polarity</th>\n",
       "      <th>Sentiment</th>\n",
       "      <th>Sentiments</th>\n",
       "    </tr>\n",
       "  </thead>\n",
       "  <tbody>\n",
       "    <tr>\n",
       "      <th>0</th>\n",
       "      <td>harga paket bansos covid 19 kemensos ternyata ...</td>\n",
       "      <td>the price of the social assistance package for...</td>\n",
       "      <td>the price of the social assistance package for...</td>\n",
       "      <td>0.333333</td>\n",
       "      <td>0.016667</td>\n",
       "      <td>positif</td>\n",
       "      <td>2</td>\n",
       "    </tr>\n",
       "    <tr>\n",
       "      <th>1</th>\n",
       "      <td>harga paket bansos covid 19 kemensos ternyata ...</td>\n",
       "      <td>the price of the social assistance package for...</td>\n",
       "      <td>the price of the social assistance package for...</td>\n",
       "      <td>0.333333</td>\n",
       "      <td>0.016667</td>\n",
       "      <td>positif</td>\n",
       "      <td>2</td>\n",
       "    </tr>\n",
       "  </tbody>\n",
       "</table>\n",
       "</div>"
      ],
      "text/plain": [
       "                                               Tweet  \\\n",
       "0  harga paket bansos covid 19 kemensos ternyata ...   \n",
       "1  harga paket bansos covid 19 kemensos ternyata ...   \n",
       "\n",
       "                                   Tweets_Translated  \\\n",
       "0  the price of the social assistance package for...   \n",
       "1  the price of the social assistance package for...   \n",
       "\n",
       "                                            Terjemah  Subjectivity  Polarity  \\\n",
       "0  the price of the social assistance package for...      0.333333  0.016667   \n",
       "1  the price of the social assistance package for...      0.333333  0.016667   \n",
       "\n",
       "  Sentiment Sentiments  \n",
       "0   positif          2  \n",
       "1   positif          2  "
      ]
     },
     "execution_count": 12,
     "metadata": {},
     "output_type": "execute_result"
    }
   ],
   "source": [
    "df.to_csv('Dataset/Label Otomatis/Train terjemah.csv',encoding='utf8', index=False)\n",
    "df.head()"
   ]
  },
  {
   "cell_type": "code",
   "execution_count": 10,
   "id": "2d65449d",
   "metadata": {},
   "outputs": [],
   "source": [
    "# Menghitung perbandingan tweet dan retweet\n",
    "r_stat = df['Sentiments'].groupby(df['Sentiments']).count()\n",
    "temp = r_stat.values"
   ]
  },
  {
   "cell_type": "code",
   "execution_count": 11,
   "id": "663f1e0f",
   "metadata": {},
   "outputs": [
    {
     "data": {
      "image/png": "[encoded data removed]",
      "text/plain": [
       "<Figure size 576x576 with 1 Axes>"
      ]
     },
     "metadata": {},
     "output_type": "display_data"
    }
   ],
   "source": [
    "# Plotting Pie\n",
    "def func(pct, allvals):\n",
    "    absolute = int(pct/100.*np.sum(allvals))\n",
    "    return \"{:.1f}%\\n{:d}\".format(pct, absolute)\n",
    "\n",
    "plt.figure(figsize = (8,8))\n",
    "plt.pie(temp,explode=(0,0,0.1),labels=['netral','negatif','positif'],shadow=True,\n",
    "        autopct=lambda pct: func(pct, temp),startangle=90)\n",
    "plt.title('Perbandingan Jumlah Tweet dan Retweet',fontsize=18)\n",
    "plt.axis('equal')\n",
    "plt.legend(fontsize=11)\n",
    "plt.show()"
   ]
  }
 ],
 "metadata": {
  "kernelspec": {
   "display_name": "Python 3",
   "language": "python",
   "name": "python3"
  },
  "language_info": {
   "codemirror_mode": {
    "name": "ipython",
    "version": 3
   },
   "file_extension": ".py",
   "mimetype": "text/x-python",
   "name": "python",
   "nbconvert_exporter": "python",
   "pygments_lexer": "ipython3",
   "version": "3.8.4"
  }
 },
 "nbformat": 4,
 "nbformat_minor": 5
}
