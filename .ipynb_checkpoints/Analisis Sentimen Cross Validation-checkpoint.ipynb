{
 "cells": [
  {
   "cell_type": "code",
   "execution_count": 2,
   "id": "726a64d0",
   "metadata": {},
   "outputs": [],
   "source": [
    "import string\n",
    "from sklearn.pipeline import Pipeline\n",
    "import pandas as pd\n",
    "import numpy as np"
   ]
  },
  {
   "cell_type": "code",
   "execution_count": null,
   "id": "7a354366",
   "metadata": {},
   "outputs": [],
   "source": [
    "data = pd.data.csv('', sep=';', encoding='utf-8')\n",
    "data.head()"
   ]
  },
  {
   "cell_type": "code",
   "execution_count": null,
   "id": "6604423d",
   "metadata": {},
   "outputs": [],
   "source": [
    "data_clean = data_clean.astype({'Sentiment' : 'category'})\n",
    "data_clean = data_clean.astype({'Tweets' : 'string'})\n",
    "data_clean.dtypes"
   ]
  },
  {
   "cell_type": "code",
   "execution_count": null,
   "id": "8758a0a3",
   "metadata": {},
   "outputs": [],
   "source": [
    "from sklearn.feature_extraction.text import CountVectorizer, TfidfVectorizer\n",
    "\n",
    "tvec = CountVectorizer()\n",
    "X_cVec = tf.fit_transform(data_clean['Tweets'],astype('U'))\n",
    "print(X_cVec)\n",
    "h_tfidf= Tfidftransformer()\n",
    "x_tfidf = h_tfidf.fit_transform(X_cVec)\n",
    "print(x_tfidf)\n",
    "X = data_clean.Tweets\n",
    "Y = data_clean.Sentiment"
   ]
  },
  {
   "cell_type": "code",
   "execution_count": null,
   "id": "85daa19b",
   "metadata": {},
   "outputs": [],
   "source": [
    "#splitting data\n",
    "from sklearn.model_selection import train_test_split\n",
    "\n",
    "from sklearn.model_selection import KFold\n",
    "from sklearn.metrics import accuracy_score, precision_score, recall_score, f1_score\n",
    "from sklearn.metrics import classification_report\n",
    "from sklearn.metrics import confusion_matrix\n",
    "\n",
    "kf = KFold(n_splits=10)\n",
    "X_array = x_tfidf.toarray()\n",
    "def cross_val(estimator):\n",
    "    acc = []\n",
    "    pcs = []\n",
    "    rec = []\n",
    "    \n",
    "    for train_index,text_index in kf_split(X_array, Y):\n",
    "        X_train, X_test = X_array[train_index], X_array[test_index]\n",
    "        y_train, y_test = Y[train_index], Y[test_index]\n",
    "        \n",
    "        model = estimator.fit(X_train, y_train)\n",
    "        y_pred = model.predict(X_test)\n",
    "        \n",
    "        acc.append(accuracy_score(y_test, y_pred))\n",
    "        pcs.append(precision_score(y_test, y_pred, average='macro', zero_devision=0))\n",
    "        rec.append(recall_score(y_test, y_pred, average='macro', zero_devision=0))\n",
    "        rec.append(f1_score(y_test, y_pred, average='macro',zero_devision=0))\n",
    "        \n",
    "        print(classification_report(y_test, y_pred, zero_devision=0))\n",
    "        print(f'confusion matrix:\\n {confusion_matrix(y_test, y_pred)}')\n",
    "        print('====================================================\\n')\n",
    "        \n",
    "    print(f'average Accuracy : {np.mean(acc)}')\n",
    "    print(f'average Precision : {np.mean(pcs)}')\n",
    "    print(f'average Recall : {np.mean(rec)}')\n",
    "    print(f'average f1-score : {np.mean(rec)}')\n",
    "    \n",
    "from sklearn.ensemble import RandomForestClassifier\n",
    "rf = RandomForestClassifier()\n",
    "cross_val(rf)"
   ]
  }
 ],
 "metadata": {
  "kernelspec": {
   "display_name": "Python 3",
   "language": "python",
   "name": "python3"
  },
  "language_info": {
   "codemirror_mode": {
    "name": "ipython",
    "version": 3
   },
   "file_extension": ".py",
   "mimetype": "text/x-python",
   "name": "python",
   "nbconvert_exporter": "python",
   "pygments_lexer": "ipython3",
   "version": "3.8.4"
  }
 },
 "nbformat": 4,
 "nbformat_minor": 5
}
