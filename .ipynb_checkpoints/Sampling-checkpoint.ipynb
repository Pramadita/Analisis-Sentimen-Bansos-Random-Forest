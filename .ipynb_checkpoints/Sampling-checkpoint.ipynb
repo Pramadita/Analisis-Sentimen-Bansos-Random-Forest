{
 "cells": [
  {
   "cell_type": "code",
   "execution_count": 1,
   "metadata": {},
   "outputs": [],
   "source": [
    "import numpy as np\n",
    "import pandas as pd"
   ]
  },
  {
   "cell_type": "code",
   "execution_count": 3,
   "metadata": {},
   "outputs": [],
   "source": [
    "# Import data\n",
    "data1 = pd.read_csv('Crawling Twitter Jakarta 26 - 27.csv')\n",
    "data2 = pd.read_csv('Crawling Twitter Jakarta 25 - 23.csv')\n",
    "data3 = pd.read_csv('Crawling Twitter Jakarta 22 - 19 setengah.csv')\n",
    "data = pd.concat([data1,data2,data3])"
   ]
  },
  {
   "cell_type": "code",
   "execution_count": 4,
   "metadata": {},
   "outputs": [],
   "source": [
    "#Memilih data bukan retweet\n",
    "tweet = data['Tweets'][data['Retweet Status']==0]"
   ]
  },
  {
   "cell_type": "code",
   "execution_count": 5,
   "metadata": {},
   "outputs": [],
   "source": [
    "#Memilih data retweet lalu drop duplicates\n",
    "retweet = data['Tweets'][data['Retweet Status']==1]\n",
    "retweet = retweet.drop_duplicates()"
   ]
  },
  {
   "cell_type": "code",
   "execution_count": 6,
   "metadata": {},
   "outputs": [],
   "source": [
    "tweet_drop = pd.concat([tweet,retweet])"
   ]
  },
  {
   "cell_type": "code",
   "execution_count": 8,
   "metadata": {},
   "outputs": [
    {
     "data": {
      "text/plain": [
       "7        b'@MrsRachelIn Pemerintah harus tegas mengkara...\n",
       "17       b'Pemerintah negara bagian New South Wales, Au...\n",
       "18       b'Terus terang setiap sore,saya sangat berdeba...\n",
       "30       b'banyak bgt rencana yang jd ada kalimat tamba...\n",
       "32       b'Selama Pandemi Corona, Lelang Mobil Bekas Di...\n",
       "                               ...                        \n",
       "91233    b'RT @Airin_NZ: Tindak tegas mereka Pak @DivHu...\n",
       "91248    b'RT @detikcom: Seorang laki-laki berusia 23 t...\n",
       "91258    b'RT @detikcom: Nilai tukar rupiah terhadap do...\n",
       "91293    b'RT @republikaonline: Dua wilayah tersebut su...\n",
       "91295    b'RT @Aryprasetyo85: Alhamdulilah..mulia bnget...\n",
       "Name: Tweets, Length: 71208, dtype: object"
      ]
     },
     "execution_count": 8,
     "metadata": {},
     "output_type": "execute_result"
    }
   ],
   "source": [
    "tweet_drop"
   ]
  },
  {
   "cell_type": "code",
   "execution_count": 14,
   "metadata": {},
   "outputs": [],
   "source": [
    "contoh = tweet_drop.sample(n=700)"
   ]
  },
  {
   "cell_type": "code",
   "execution_count": 15,
   "metadata": {},
   "outputs": [],
   "source": [
    "contoh.to_csv('Sample Tweet.csv')"
   ]
  }
 ],
 "metadata": {
  "kernelspec": {
   "display_name": "Python 3",
   "language": "python",
   "name": "python3"
  },
  "language_info": {
   "codemirror_mode": {
    "name": "ipython",
    "version": 3
   },
   "file_extension": ".py",
   "mimetype": "text/x-python",
   "name": "python",
   "nbconvert_exporter": "python",
   "pygments_lexer": "ipython3",
   "version": "3.8.4"
  }
 },
 "nbformat": 4,
 "nbformat_minor": 2
}
